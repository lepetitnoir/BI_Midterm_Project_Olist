{
 "cells": [
  {
   "cell_type": "code",
   "execution_count": 18,
   "id": "3776126b",
   "metadata": {},
   "outputs": [],
   "source": [
    "import pandas as pd"
   ]
  },
  {
   "cell_type": "code",
   "execution_count": 13,
   "id": "b0fc137b",
   "metadata": {},
   "outputs": [],
   "source": [
    "#def load_olist_data_total():\n",
    "    closed_deals = pd.read_csv('Data/closed_deals.csv')\n",
    "    customers = pd.read_csv('Data/customers.csv')\n",
    "    geolocation = pd.read_csv('Data/geolocation.csv')\n",
    "    marketing_ql = pd.read_csv('Data/marketing_qualified_leads.csv')\n",
    "    order_customer = pd.read_csv('Data/order_customer_items_paid.csv')\n",
    "    order_items = pd.read_csv('Data/order_items.csv')\n",
    "    order_payments = pd.read_csv('Data/order_payments.csv')\n",
    "    order_reviews = pd.read_csv('Data/order_reviews.csv')\n",
    "    order_status = pd.read_csv('Data/order_status_year_price.csv')\n",
    "    orders = pd.read_csv('Data/orders.csv')\n",
    "    prod_price = pd.read_csv('Data/prod_cat_price.csv')\n",
    "    products_trans = pd.read_csv('Data/products_category_name_translation.csv')\n",
    "    products = pd.read_csv('Data/products.csv')\n",
    "    sellers = pd.read_csv('Data/sellers.csv')\n",
    "    return pd.concat([closed_deals,customers,geolocation,marketing_ql,order_customer,\n",
    "                      order_items,order_payments,order_reviews,order_status,\n",
    "                      orders,prod_price,products_trans,products,sellers], axis = 0)\n"
   ]
  },
  {
   "cell_type": "code",
   "execution_count": 67,
   "id": "9a13dab4",
   "metadata": {},
   "outputs": [],
   "source": [
    "id = pd.read_csv('Join/join_customer_order_seller_id.csv')"
   ]
  },
  {
   "cell_type": "code",
   "execution_count": 68,
   "id": "c8c056af",
   "metadata": {},
   "outputs": [
    {
     "name": "stdout",
     "output_type": "stream",
     "text": [
      "<class 'pandas.core.frame.DataFrame'>\n",
      "RangeIndex: 112650 entries, 0 to 112649\n",
      "Data columns (total 3 columns):\n",
      " #   Column              Non-Null Count   Dtype \n",
      "---  ------              --------------   ----- \n",
      " 0   customer_unique_id  112650 non-null  object\n",
      " 1   order_id            112650 non-null  object\n",
      " 2   seller_id           112650 non-null  object\n",
      "dtypes: object(3)\n",
      "memory usage: 2.6+ MB\n"
     ]
    }
   ],
   "source": [
    "id.info()"
   ]
  },
  {
   "cell_type": "code",
   "execution_count": 69,
   "id": "9f5366bf",
   "metadata": {},
   "outputs": [],
   "source": [
    "join = pd.read_csv('Join/join_customer_order_seller_tables.csv')"
   ]
  },
  {
   "cell_type": "code",
   "execution_count": 70,
   "id": "e4e0bbcc",
   "metadata": {},
   "outputs": [
    {
     "name": "stdout",
     "output_type": "stream",
     "text": [
      "<class 'pandas.core.frame.DataFrame'>\n",
      "RangeIndex: 5044 entries, 0 to 5043\n",
      "Data columns (total 34 columns):\n",
      " #   Column                         Non-Null Count  Dtype  \n",
      "---  ------                         --------------  -----  \n",
      " 0   seller_id                      5044 non-null   object \n",
      " 1   order_id                       5044 non-null   object \n",
      " 2   customer_id                    5044 non-null   object \n",
      " 3   customer_unique_id             5044 non-null   object \n",
      " 4   customer_zip_code_prefix       5044 non-null   int64  \n",
      " 5   customer_city                  5044 non-null   object \n",
      " 6   customer_state                 5044 non-null   object \n",
      " 7   order_status                   5044 non-null   object \n",
      " 8   order_purchase_timestamp       5044 non-null   object \n",
      " 9   order_approved_at              5044 non-null   object \n",
      " 10  order_delivered_carrier_date   5027 non-null   object \n",
      " 11  order_delivered_customer_date  4982 non-null   object \n",
      " 12  order_estimated_delivery_date  5044 non-null   object \n",
      " 13  order_item_id                  5044 non-null   int64  \n",
      " 14  product_id                     5044 non-null   object \n",
      " 15  shipping_limit_date            5044 non-null   object \n",
      " 16  price                          5044 non-null   float64\n",
      " 17  freight_value                  5044 non-null   float64\n",
      " 18  seller_zip_code_prefix         5044 non-null   int64  \n",
      " 19  seller_city                    5044 non-null   object \n",
      " 20  seller_state                   5044 non-null   object \n",
      " 21  mql_id                         5044 non-null   object \n",
      " 22  sdr_id                         5044 non-null   object \n",
      " 23  sr_id                          5044 non-null   object \n",
      " 24  won_date                       5044 non-null   object \n",
      " 25  business_segment               5044 non-null   object \n",
      " 26  lead_type                      4996 non-null   object \n",
      " 27  lead_behaviour_profile         3303 non-null   object \n",
      " 28  has_company                    30 non-null     float64\n",
      " 29  has_gtin                       30 non-null     float64\n",
      " 30  average_stock                  30 non-null     object \n",
      " 31  business_type                  5039 non-null   object \n",
      " 32  declared_product_catalog_size  0 non-null      float64\n",
      " 33  declared_monthly_revenue       5044 non-null   int64  \n",
      "dtypes: float64(5), int64(4), object(25)\n",
      "memory usage: 1.3+ MB\n"
     ]
    }
   ],
   "source": [
    "join.info()"
   ]
  },
  {
   "cell_type": "code",
   "execution_count": null,
   "id": "38e66dbc",
   "metadata": {},
   "outputs": [],
   "source": []
  }
 ],
 "metadata": {
  "kernelspec": {
   "display_name": "Python 3 (ipykernel)",
   "language": "python",
   "name": "python3"
  },
  "language_info": {
   "codemirror_mode": {
    "name": "ipython",
    "version": 3
   },
   "file_extension": ".py",
   "mimetype": "text/x-python",
   "name": "python",
   "nbconvert_exporter": "python",
   "pygments_lexer": "ipython3",
   "version": "3.9.12"
  },
  "toc": {
   "base_numbering": 1,
   "nav_menu": {},
   "number_sections": true,
   "sideBar": true,
   "skip_h1_title": false,
   "title_cell": "Table of Contents",
   "title_sidebar": "Contents",
   "toc_cell": false,
   "toc_position": {},
   "toc_section_display": true,
   "toc_window_display": false
  },
  "varInspector": {
   "cols": {
    "lenName": 16,
    "lenType": 16,
    "lenVar": 40
   },
   "kernels_config": {
    "python": {
     "delete_cmd_postfix": "",
     "delete_cmd_prefix": "del ",
     "library": "var_list.py",
     "varRefreshCmd": "print(var_dic_list())"
    },
    "r": {
     "delete_cmd_postfix": ") ",
     "delete_cmd_prefix": "rm(",
     "library": "var_list.r",
     "varRefreshCmd": "cat(var_dic_list()) "
    }
   },
   "types_to_exclude": [
    "module",
    "function",
    "builtin_function_or_method",
    "instance",
    "_Feature"
   ],
   "window_display": false
  }
 },
 "nbformat": 4,
 "nbformat_minor": 5
}
