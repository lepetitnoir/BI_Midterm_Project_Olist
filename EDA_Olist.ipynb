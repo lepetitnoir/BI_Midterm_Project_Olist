{
 "cells": [
  {
   "cell_type": "code",
   "execution_count": 18,
   "id": "7e2db547",
   "metadata": {},
   "outputs": [],
   "source": [
    "import pandas as pd"
   ]
  },
  {
   "cell_type": "code",
   "execution_count": 13,
   "id": "fe22db63",
   "metadata": {},
   "outputs": [],
   "source": [
    "#def load_olist_data_total():\n",
    "    closed_deals = pd.read_csv('Data/closed_deals.csv')\n",
    "    customers = pd.read_csv('Data/customers.csv')\n",
    "    geolocation = pd.read_csv('Data/geolocation.csv')\n",
    "    marketing_ql = pd.read_csv('Data/marketing_qualified_leads.csv')\n",
    "    order_customer = pd.read_csv('Data/order_customer_items_paid.csv')\n",
    "    order_items = pd.read_csv('Data/order_items.csv')\n",
    "    order_payments = pd.read_csv('Data/order_payments.csv')\n",
    "    order_reviews = pd.read_csv('Data/order_reviews.csv')\n",
    "    order_status = pd.read_csv('Data/order_status_year_price.csv')\n",
    "    orders = pd.read_csv('Data/orders.csv')\n",
    "    prod_price = pd.read_csv('Data/prod_cat_price.csv')\n",
    "    products_trans = pd.read_csv('Data/products_category_name_translation.csv')\n",
    "    products = pd.read_csv('Data/products.csv')\n",
    "    sellers = pd.read_csv('Data/sellers.csv')\n",
    "    return pd.concat([closed_deals,customers,geolocation,marketing_ql,order_customer,\n",
    "                      order_items,order_payments,order_reviews,order_status,\n",
    "                      orders,prod_price,products_trans,products,sellers], axis = 0)\n"
   ]
  },
  {
   "cell_type": "code",
   "execution_count": 58,
   "id": "2c0f583a",
   "metadata": {},
   "outputs": [],
   "source": [
    "id = pd.read_csv('Data/join_customer_order_seller_id.csv')"
   ]
  },
  {
   "cell_type": "code",
   "execution_count": 59,
   "id": "f116963d",
   "metadata": {},
   "outputs": [
    {
     "name": "stdout",
     "output_type": "stream",
     "text": [
      "<class 'pandas.core.frame.DataFrame'>\n",
      "RangeIndex: 112650 entries, 0 to 112649\n",
      "Data columns (total 3 columns):\n",
      " #   Column              Non-Null Count   Dtype \n",
      "---  ------              --------------   ----- \n",
      " 0   customer_unique_id  112650 non-null  object\n",
      " 1   order_id            112650 non-null  object\n",
      " 2   seller_id           112650 non-null  object\n",
      "dtypes: object(3)\n",
      "memory usage: 2.6+ MB\n"
     ]
    }
   ],
   "source": [
    "id.info()"
   ]
  },
  {
   "cell_type": "code",
   "execution_count": null,
   "id": "49b5a1be",
   "metadata": {},
   "outputs": [],
   "source": []
  }
 ],
 "metadata": {
  "kernelspec": {
   "display_name": "Python 3 (ipykernel)",
   "language": "python",
   "name": "python3"
  },
  "language_info": {
   "codemirror_mode": {
    "name": "ipython",
    "version": 3
   },
   "file_extension": ".py",
   "mimetype": "text/x-python",
   "name": "python",
   "nbconvert_exporter": "python",
   "pygments_lexer": "ipython3",
   "version": "3.9.12"
  },
  "toc": {
   "base_numbering": 1,
   "nav_menu": {},
   "number_sections": true,
   "sideBar": true,
   "skip_h1_title": false,
   "title_cell": "Table of Contents",
   "title_sidebar": "Contents",
   "toc_cell": false,
   "toc_position": {},
   "toc_section_display": true,
   "toc_window_display": false
  },
  "varInspector": {
   "cols": {
    "lenName": 16,
    "lenType": 16,
    "lenVar": 40
   },
   "kernels_config": {
    "python": {
     "delete_cmd_postfix": "",
     "delete_cmd_prefix": "del ",
     "library": "var_list.py",
     "varRefreshCmd": "print(var_dic_list())"
    },
    "r": {
     "delete_cmd_postfix": ") ",
     "delete_cmd_prefix": "rm(",
     "library": "var_list.r",
     "varRefreshCmd": "cat(var_dic_list()) "
    }
   },
   "types_to_exclude": [
    "module",
    "function",
    "builtin_function_or_method",
    "instance",
    "_Feature"
   ],
   "window_display": false
  }
 },
 "nbformat": 4,
 "nbformat_minor": 5
}
