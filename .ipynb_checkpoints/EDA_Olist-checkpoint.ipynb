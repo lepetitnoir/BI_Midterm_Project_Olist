{
 "cells": [
  {
   "cell_type": "code",
   "execution_count": 1,
   "id": "a27ad2fe",
   "metadata": {},
   "outputs": [],
   "source": [
    "import pandas as pd"
   ]
  },
  {
   "cell_type": "code",
   "execution_count": 47,
   "id": "eb78abd1",
   "metadata": {},
   "outputs": [],
   "source": [
    "def load_olist_data_total():\n",
    "    closed_deals = pd.read_csv('Data/closed_deals.csv')\n",
    "    customers = pd.read_csv('Data/customers.csv')\n",
    "    geolocation = pd.read_csv('Data/geolocation.csv')\n",
    "    marketing_ql = pd.read_csv('Data/marketing_qualified_leads.csv')\n",
    "    order_customer = pd.read_csv('Data/order_costumer_items_paids.csv')\n",
    "    order_items = pd.read_csv('Data/order_items.csv')\n",
    "    order_payments = pd.read_csv('Data/order_payments.csv')\n",
    "    order_reviews = pd.read_csv('Data/order_reviews.csv')\n",
    "    order_status = pd.read_csv('Data/order_status_year_prices.csv')\n",
    "    orders = pd.read_csv('Data/orders.csv')\n",
    "    prod_price = pd.read_csv('Data/prod_cat_prices.csv')\n",
    "    products_trans = pd.read_csv('Data/product_category_name_translation.csv')\n",
    "    products = pd.read_csv('Data/products.csv')\n",
    "    sellers = pd.read_csv('Data/sellers.csv')\n",
    "    return pd.concat([closed_deals,customers,geolocation,marketing_ql,order_customer,\n",
    "                      order_items,order_payments,order_reviews,order_status,\n",
    "                      orders,prod_price,products_trans,products,sellers], axis = 0)\n"
   ]
  },
  {
   "cell_type": "code",
   "execution_count": 48,
   "id": "a66ebff7",
   "metadata": {},
   "outputs": [],
   "source": [
    "data_total = load_olist_data_total()"
   ]
  },
  {
   "cell_type": "code",
   "execution_count": 49,
   "id": "cc3300df",
   "metadata": {},
   "outputs": [
    {
     "data": {
      "text/plain": [
       "Index(['mql_id', 'seller_id', 'sdr_id', 'sr_id', 'won_date',\n",
       "       'business_segment', 'lead_type', 'lead_behaviour_profile',\n",
       "       'has_company', 'has_gtin', 'average_stock', 'business_type',\n",
       "       'declared_product_catalog_size', 'declared_monthly_revenue',\n",
       "       'customer_id', 'customer_unique_id', 'customer_zip_code_prefix',\n",
       "       'customer_city', 'customer_state', 'geolocation_zip_code_prefix',\n",
       "       'geolocation_lat', 'geolocation_lng', 'geolocation_city',\n",
       "       'geolocation_state', 'first_contact_date', 'landing_page_id', 'origin',\n",
       "       'order_id', 'order_status', 'order_item_id', 'price', 'freight_value',\n",
       "       'final_price', 'product_id', 'shipping_limit_date',\n",
       "       'payment_sequential', 'payment_type', 'payment_installments',\n",
       "       'payment_value', 'review_id', 'review_score', 'review_comment_title',\n",
       "       'review_comment_message', 'review_creation_date',\n",
       "       'review_answer_timestamp', 'Year', 'product_category_name', 'category',\n",
       "       'total_price', 'order_purchase_timestamp', 'order_approved_at',\n",
       "       'order_delivered_carrier_date', 'order_delivered_customer_date',\n",
       "       'order_estimated_delivery_date', 'cat_en',\n",
       "       'product_category_name_english', 'product_name_lenght',\n",
       "       'product_description_lenght', 'product_photos_qty', 'product_weight_g',\n",
       "       'product_length_cm', 'product_height_cm', 'product_width_cm',\n",
       "       'seller_zip_code_prefix', 'seller_city', 'seller_state'],\n",
       "      dtype='object')"
      ]
     },
     "execution_count": 49,
     "metadata": {},
     "output_type": "execute_result"
    }
   ],
   "source": [
    "data_total.columns"
   ]
  },
  {
   "cell_type": "code",
   "execution_count": 52,
   "id": "f84b60de",
   "metadata": {},
   "outputs": [
    {
     "name": "stdout",
     "output_type": "stream",
     "text": [
      "<class 'pandas.core.frame.DataFrame'>\n",
      "Int64Index: 1937977 entries, 0 to 3094\n",
      "Data columns (total 66 columns):\n",
      " #   Column                         Dtype  \n",
      "---  ------                         -----  \n",
      " 0   mql_id                         object \n",
      " 1   seller_id                      object \n",
      " 2   sdr_id                         object \n",
      " 3   sr_id                          object \n",
      " 4   won_date                       object \n",
      " 5   business_segment               object \n",
      " 6   lead_type                      object \n",
      " 7   lead_behaviour_profile         object \n",
      " 8   has_company                    object \n",
      " 9   has_gtin                       object \n",
      " 10  average_stock                  object \n",
      " 11  business_type                  object \n",
      " 12  declared_product_catalog_size  float64\n",
      " 13  declared_monthly_revenue       float64\n",
      " 14  customer_id                    object \n",
      " 15  customer_unique_id             object \n",
      " 16  customer_zip_code_prefix       float64\n",
      " 17  customer_city                  object \n",
      " 18  customer_state                 object \n",
      " 19  geolocation_zip_code_prefix    float64\n",
      " 20  geolocation_lat                float64\n",
      " 21  geolocation_lng                float64\n",
      " 22  geolocation_city               object \n",
      " 23  geolocation_state              object \n",
      " 24  first_contact_date             object \n",
      " 25  landing_page_id                object \n",
      " 26  origin                         object \n",
      " 27  order_id                       object \n",
      " 28  order_status                   object \n",
      " 29  order_item_id                  float64\n",
      " 30  price                          float64\n",
      " 31  freight_value                  float64\n",
      " 32  final_price                    float64\n",
      " 33  product_id                     object \n",
      " 34  shipping_limit_date            object \n",
      " 35  payment_sequential             float64\n",
      " 36  payment_type                   object \n",
      " 37  payment_installments           float64\n",
      " 38  payment_value                  float64\n",
      " 39  review_id                      object \n",
      " 40  review_score                   float64\n",
      " 41  review_comment_title           object \n",
      " 42  review_comment_message         object \n",
      " 43  review_creation_date           object \n",
      " 44  review_answer_timestamp        object \n",
      " 45  Year                           float64\n",
      " 46  product_category_name          object \n",
      " 47  category                       object \n",
      " 48  total_price                    float64\n",
      " 49  order_purchase_timestamp       object \n",
      " 50  order_approved_at              object \n",
      " 51  order_delivered_carrier_date   object \n",
      " 52  order_delivered_customer_date  object \n",
      " 53  order_estimated_delivery_date  object \n",
      " 54  cat_en                         object \n",
      " 55  product_category_name_english  object \n",
      " 56  product_name_lenght            float64\n",
      " 57  product_description_lenght     float64\n",
      " 58  product_photos_qty             float64\n",
      " 59  product_weight_g               float64\n",
      " 60  product_length_cm              float64\n",
      " 61  product_height_cm              float64\n",
      " 62  product_width_cm               float64\n",
      " 63  seller_zip_code_prefix         float64\n",
      " 64  seller_city                    object \n",
      " 65  seller_state                   object \n",
      "dtypes: float64(24), object(42)\n",
      "memory usage: 990.6+ MB\n"
     ]
    }
   ],
   "source": [
    "data_total.info()"
   ]
  },
  {
   "cell_type": "code",
   "execution_count": 51,
   "id": "dee2ccb7",
   "metadata": {},
   "outputs": [],
   "source": [
    "data_total.to_csv(\"data_total.csv\")"
   ]
  }
 ],
 "metadata": {
  "kernelspec": {
   "display_name": "Python 3 (ipykernel)",
   "language": "python",
   "name": "python3"
  },
  "language_info": {
   "codemirror_mode": {
    "name": "ipython",
    "version": 3
   },
   "file_extension": ".py",
   "mimetype": "text/x-python",
   "name": "python",
   "nbconvert_exporter": "python",
   "pygments_lexer": "ipython3",
   "version": "3.9.12"
  },
  "toc": {
   "base_numbering": 1,
   "nav_menu": {},
   "number_sections": true,
   "sideBar": true,
   "skip_h1_title": false,
   "title_cell": "Table of Contents",
   "title_sidebar": "Contents",
   "toc_cell": false,
   "toc_position": {},
   "toc_section_display": true,
   "toc_window_display": false
  },
  "varInspector": {
   "cols": {
    "lenName": 16,
    "lenType": 16,
    "lenVar": 40
   },
   "kernels_config": {
    "python": {
     "delete_cmd_postfix": "",
     "delete_cmd_prefix": "del ",
     "library": "var_list.py",
     "varRefreshCmd": "print(var_dic_list())"
    },
    "r": {
     "delete_cmd_postfix": ") ",
     "delete_cmd_prefix": "rm(",
     "library": "var_list.r",
     "varRefreshCmd": "cat(var_dic_list()) "
    }
   },
   "types_to_exclude": [
    "module",
    "function",
    "builtin_function_or_method",
    "instance",
    "_Feature"
   ],
   "window_display": false
  }
 },
 "nbformat": 4,
 "nbformat_minor": 5
}
