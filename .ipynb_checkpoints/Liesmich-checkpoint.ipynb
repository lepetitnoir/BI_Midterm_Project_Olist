{
 "cells": [
  {
   "cell_type": "markdown",
   "id": "9f56763d",
   "metadata": {},
   "source": [
    "# BI_Midterm_Project_Olist\n",
    "\n",
    "- Members of the group: Herranz, Pablo; Jost, Paul-Moritz\n",
    "\n",
    "- Goal of the project (BI project): Explain changes in growth rate of olist\n",
    "\n",
    "- Brief description of the data set: Number of Rows: 112650, Number of Tables: 14\n",
    "\n",
    "- Monday: Exploring db using SQL\n",
    "\n",
    "- Tuesday: Exporting Data with Join Function\n",
    "\n",
    "- Wednesday: Cleaning exported Data with Pandas\n",
    "\n",
    "- Thursday: Create Visualisation with Tableu\n",
    "\n",
    "- Problems: Couldn't load all joined csv's into data frame\n",
    "\n"
   ]
  },
  {
   "cell_type": "code",
   "execution_count": null,
   "id": "1f4af9df",
   "metadata": {},
   "outputs": [],
   "source": []
  }
 ],
 "metadata": {
  "kernelspec": {
   "display_name": "Python 3 (ipykernel)",
   "language": "python",
   "name": "python3"
  },
  "language_info": {
   "codemirror_mode": {
    "name": "ipython",
    "version": 3
   },
   "file_extension": ".py",
   "mimetype": "text/x-python",
   "name": "python",
   "nbconvert_exporter": "python",
   "pygments_lexer": "ipython3",
   "version": "3.9.12"
  },
  "toc": {
   "base_numbering": 1,
   "nav_menu": {},
   "number_sections": true,
   "sideBar": true,
   "skip_h1_title": false,
   "title_cell": "Table of Contents",
   "title_sidebar": "Contents",
   "toc_cell": false,
   "toc_position": {},
   "toc_section_display": true,
   "toc_window_display": false
  },
  "varInspector": {
   "cols": {
    "lenName": 16,
    "lenType": 16,
    "lenVar": 40
   },
   "kernels_config": {
    "python": {
     "delete_cmd_postfix": "",
     "delete_cmd_prefix": "del ",
     "library": "var_list.py",
     "varRefreshCmd": "print(var_dic_list())"
    },
    "r": {
     "delete_cmd_postfix": ") ",
     "delete_cmd_prefix": "rm(",
     "library": "var_list.r",
     "varRefreshCmd": "cat(var_dic_list()) "
    }
   },
   "types_to_exclude": [
    "module",
    "function",
    "builtin_function_or_method",
    "instance",
    "_Feature"
   ],
   "window_display": false
  }
 },
 "nbformat": 4,
 "nbformat_minor": 5
}
